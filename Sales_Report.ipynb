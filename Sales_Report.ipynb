{
  "nbformat": 4,
  "nbformat_minor": 0,
  "metadata": {
    "colab": {
      "provenance": [],
      "authorship_tag": "ABX9TyOyDy+z0E8WGm8L3nOi77tQ",
      "include_colab_link": true
    },
    "kernelspec": {
      "name": "python3",
      "display_name": "Python 3"
    },
    "language_info": {
      "name": "python"
    }
  },
  "cells": [
    {
      "cell_type": "markdown",
      "metadata": {
        "id": "view-in-github",
        "colab_type": "text"
      },
      "source": [
        "<a href=\"https://colab.research.google.com/github/Chaitanya2908/Sales_Report/blob/main/Sales_Report.ipynb\" target=\"_parent\"><img src=\"https://colab.research.google.com/assets/colab-badge.svg\" alt=\"Open In Colab\"/></a>"
      ]
    },
    {
      "cell_type": "code",
      "execution_count": 29,
      "metadata": {
        "id": "sB-L3wRIRxp6"
      },
      "outputs": [],
      "source": [
        "import pandas as pd"
      ]
    },
    {
      "cell_type": "code",
      "source": [
        "# Load the dataset & Display the first few rows\n",
        "data = pd.read_csv(\"Sales Data.csv\")\n",
        "print(data.head(5))"
      ],
      "metadata": {
        "colab": {
          "base_uri": "https://localhost:8080/"
        },
        "id": "2W15G7FqKfpG",
        "outputId": "944bf877-4f78-43fe-a418-228f5c4fdc3b"
      },
      "execution_count": 30,
      "outputs": [
        {
          "output_type": "stream",
          "name": "stdout",
          "text": [
            "   Unnamed: 0  Order ID               Product  Quantity Ordered  Price Each  \\\n",
            "0           0    295665    Macbook Pro Laptop                 1     1700.00   \n",
            "1           1    295666    LG Washing Machine                 1      600.00   \n",
            "2           2    295667  USB-C Charging Cable                 1       11.95   \n",
            "3           3    295668      27in FHD Monitor                 1      149.99   \n",
            "4           4    295669  USB-C Charging Cable                 1       11.95   \n",
            "\n",
            "            Order Date                        Purchase Address  Month  \\\n",
            "0  2019-12-30 00:01:00  136 Church St, New York City, NY 10001     12   \n",
            "1  2019-12-29 07:03:00     562 2nd St, New York City, NY 10001     12   \n",
            "2  2019-12-12 18:21:00    277 Main St, New York City, NY 10001     12   \n",
            "3  2019-12-22 15:13:00     410 6th St, San Francisco, CA 94016     12   \n",
            "4  2019-12-18 12:38:00           43 Hill St, Atlanta, GA 30301     12   \n",
            "\n",
            "     Sales            City  Hour  \n",
            "0  1700.00   New York City     0  \n",
            "1   600.00   New York City     7  \n",
            "2    11.95   New York City    18  \n",
            "3   149.99   San Francisco    15  \n",
            "4    11.95         Atlanta    12  \n"
          ]
        }
      ]
    },
    {
      "cell_type": "code",
      "source": [
        "# Drop rows with missing essential values\n",
        "data.dropna(subset=['Product', 'Quantity Ordered', 'Price Each', 'Order Date', 'Sales'], inplace=True)"
      ],
      "metadata": {
        "id": "4qzS8xPLl3HA"
      },
      "execution_count": 31,
      "outputs": []
    },
    {
      "cell_type": "code",
      "source": [
        "# Check If any Missing Values\n",
        "print(data.isnull().sum())"
      ],
      "metadata": {
        "colab": {
          "base_uri": "https://localhost:8080/"
        },
        "id": "2cUZiu1VKnqA",
        "outputId": "694a3b74-b283-4bdd-8e3c-dbae5e37b063"
      },
      "execution_count": 32,
      "outputs": [
        {
          "output_type": "stream",
          "name": "stdout",
          "text": [
            "Unnamed: 0          0\n",
            "Order ID            0\n",
            "Product             0\n",
            "Quantity Ordered    0\n",
            "Price Each          0\n",
            "Order Date          0\n",
            "Purchase Address    0\n",
            "Month               0\n",
            "Sales               0\n",
            "City                0\n",
            "Hour                0\n",
            "dtype: int64\n"
          ]
        }
      ]
    },
    {
      "cell_type": "code",
      "source": [
        "data.info()"
      ],
      "metadata": {
        "colab": {
          "base_uri": "https://localhost:8080/"
        },
        "id": "SfbJSoXPrjGL",
        "outputId": "f5ca60c6-e3b4-49e0-b863-538342cb1a01"
      },
      "execution_count": 33,
      "outputs": [
        {
          "output_type": "stream",
          "name": "stdout",
          "text": [
            "<class 'pandas.core.frame.DataFrame'>\n",
            "RangeIndex: 185950 entries, 0 to 185949\n",
            "Data columns (total 11 columns):\n",
            " #   Column            Non-Null Count   Dtype  \n",
            "---  ------            --------------   -----  \n",
            " 0   Unnamed: 0        185950 non-null  int64  \n",
            " 1   Order ID          185950 non-null  int64  \n",
            " 2   Product           185950 non-null  object \n",
            " 3   Quantity Ordered  185950 non-null  int64  \n",
            " 4   Price Each        185950 non-null  float64\n",
            " 5   Order Date        185950 non-null  object \n",
            " 6   Purchase Address  185950 non-null  object \n",
            " 7   Month             185950 non-null  int64  \n",
            " 8   Sales             185950 non-null  float64\n",
            " 9   City              185950 non-null  object \n",
            " 10  Hour              185950 non-null  int64  \n",
            "dtypes: float64(2), int64(5), object(4)\n",
            "memory usage: 15.6+ MB\n"
          ]
        }
      ]
    },
    {
      "cell_type": "code",
      "source": [
        "# Convert data types if necessary\n",
        "data['Order Date'] = pd.to_datetime(data['Order Date'], errors='coerce')\n",
        "print(data['Order Date'].head(5))\n",
        "\n",
        "data['Price Each'] = pd.to_numeric(data['Price Each'], errors='coerce')\n",
        "print(data['Price Each'].head(5))\n",
        "\n",
        "data['Quantity Ordered'] = pd.to_numeric(data['Quantity Ordered'], errors='coerce')\n",
        "print(data['Quantity Ordered'].head(5))"
      ],
      "metadata": {
        "colab": {
          "base_uri": "https://localhost:8080/"
        },
        "id": "nRj8i4bhlpmM",
        "outputId": "605f0a16-761a-4552-fe35-e5ebc7c49d18"
      },
      "execution_count": 34,
      "outputs": [
        {
          "output_type": "stream",
          "name": "stdout",
          "text": [
            "0   2019-12-30 00:01:00\n",
            "1   2019-12-29 07:03:00\n",
            "2   2019-12-12 18:21:00\n",
            "3   2019-12-22 15:13:00\n",
            "4   2019-12-18 12:38:00\n",
            "Name: Order Date, dtype: datetime64[ns]\n",
            "0    1700.00\n",
            "1     600.00\n",
            "2      11.95\n",
            "3     149.99\n",
            "4      11.95\n",
            "Name: Price Each, dtype: float64\n",
            "0    1\n",
            "1    1\n",
            "2    1\n",
            "3    1\n",
            "4    1\n",
            "Name: Quantity Ordered, dtype: int64\n"
          ]
        }
      ]
    },
    {
      "cell_type": "code",
      "source": [
        "#Preapre Report\n",
        "report = {\n",
        "    'total_revenue': f\"${data['Sales'].sum():,.2f}\",\n",
        "    'top_product': data.groupby('Product')['Quantity Ordered'].sum().idxmax(),\n",
        "    'average_daily_sales': f\"${data.groupby('Order Date')['Sales'].sum().mean():,.2f}\"\n",
        "}"
      ],
      "metadata": {
        "id": "Bnhf8rGtnR3J"
      },
      "execution_count": 35,
      "outputs": []
    },
    {
      "cell_type": "code",
      "source": [
        "# Convert to a DataFrame\n",
        "report_df = pd.DataFrame(list(report.items()))\n",
        "\n",
        "# Save to CSV\n",
        "report_df.to_csv('sales_report_summary.csv', index=False)\n",
        "\n",
        "print(\"Report saved to sales_report_summary.csv\")"
      ],
      "metadata": {
        "colab": {
          "base_uri": "https://localhost:8080/"
        },
        "id": "iZqbeClOqNZJ",
        "outputId": "81574ede-bcfc-4acf-8bba-a251088e9ae4"
      },
      "execution_count": 36,
      "outputs": [
        {
          "output_type": "stream",
          "name": "stdout",
          "text": [
            "Report saved to sales_report_summary.csv\n"
          ]
        }
      ]
    }
  ]
}